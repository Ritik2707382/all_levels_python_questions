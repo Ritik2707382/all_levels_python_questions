{
  "nbformat": 4,
  "nbformat_minor": 0,
  "metadata": {
    "colab": {
      "provenance": []
    },
    "kernelspec": {
      "name": "python3",
      "display_name": "Python 3"
    },
    "language_info": {
      "name": "python"
    }
  },
  "cells": [
    {
      "cell_type": "code",
      "execution_count": null,
      "metadata": {
        "colab": {
          "base_uri": "https://localhost:8080/"
        },
        "id": "FLcsQiIepPSm",
        "outputId": "3246ab01-a342-4a13-a71f-55a174d9bdf3"
      },
      "outputs": [
        {
          "output_type": "stream",
          "name": "stdout",
          "text": [
            "12\n"
          ]
        }
      ],
      "source": [
        "def second_largest(numbers):\n",
        "  if len(numbers) <2:\n",
        "    print(\"List must contain atleast two numbers\")\n",
        "  unique_numbers = list(set(numbers))\n",
        "  if len(unique_numbers) <2:\n",
        "    print(\"List must contain atleast two unique numbers\")\n",
        "  unique_numbers.sort()\n",
        "  return unique_numbers[-2]\n",
        "numbers_list = [10, 5, 20, 8, 12]\n",
        "print(second_largest(numbers_list))"
      ]
    }
  ]
}