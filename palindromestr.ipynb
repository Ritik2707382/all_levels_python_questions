{
  "nbformat": 4,
  "nbformat_minor": 0,
  "metadata": {
    "colab": {
      "provenance": []
    },
    "kernelspec": {
      "name": "python3",
      "display_name": "Python 3"
    },
    "language_info": {
      "name": "python"
    }
  },
  "cells": [
    {
      "cell_type": "code",
      "execution_count": 2,
      "metadata": {
        "colab": {
          "base_uri": "https://localhost:8080/"
        },
        "id": "A6UQIgxVeaGw",
        "outputId": "9a32aacc-243f-4dd2-d093-2a016085fbc1"
      },
      "outputs": [
        {
          "output_type": "stream",
          "name": "stdout",
          "text": [
            "g \n",
            "eg \n",
            "eeg \n",
            "keeg \n",
            "skeeg \n",
            "It is not a Palindome Number\n"
          ]
        }
      ],
      "source": [
        "str1 = \"geeks\"\n",
        "str2 = \" \"\n",
        "for i in str1:\n",
        "  str2 = i + str2\n",
        "  print(str2)\n",
        "if(str1 == str2):\n",
        "  print(\"It is a Palindrome Number\")\n",
        "else:\n",
        "  print(\"It is not a Palindome Number\")"
      ]
    },
    {
      "cell_type": "code",
      "source": [
        "str1 = \"abcba\"\n",
        "str2 = \"\"\n",
        "for i in str1:\n",
        "  str2 = i + str2\n",
        "  print(str2)\n",
        "if (str1 == str2):\n",
        "  print(\"It is a Palindrome Number\")\n",
        "else:\n",
        "  print(\"It is not a Palindrome Number\")"
      ],
      "metadata": {
        "colab": {
          "base_uri": "https://localhost:8080/"
        },
        "id": "JIBbrOGpfL0n",
        "outputId": "8ac2efb2-f556-4149-f9c1-8a830e5ab7b8"
      },
      "execution_count": 5,
      "outputs": [
        {
          "output_type": "stream",
          "name": "stdout",
          "text": [
            "a\n",
            "ba\n",
            "cba\n",
            "bcba\n",
            "abcba\n",
            "It is a Palindrome Number\n"
          ]
        }
      ]
    }
  ]
}