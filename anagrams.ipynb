{
  "nbformat": 4,
  "nbformat_minor": 0,
  "metadata": {
    "colab": {
      "provenance": []
    },
    "kernelspec": {
      "name": "python3",
      "display_name": "Python 3"
    },
    "language_info": {
      "name": "python"
    }
  },
  "cells": [
    {
      "cell_type": "code",
      "execution_count": 5,
      "metadata": {
        "colab": {
          "base_uri": "https://localhost:8080/"
        },
        "id": "AdfZyjn446_1",
        "outputId": "45183fcb-78ad-4841-8f88-81e3d3cbfa6d"
      },
      "outputs": [
        {
          "output_type": "stream",
          "name": "stdout",
          "text": [
            "Check the Strings Anagrams: True\n"
          ]
        }
      ],
      "source": [
        "def are_anagrams(str1,str2):\n",
        "  str1_clean = str1.lower().replace(\" \",\"\")\n",
        "  str2_clean = str2.lower().replace(\" \",\"\")\n",
        "  return sorted(str1_clean) == sorted(str2_clean)\n",
        "\n",
        "str1 = \"listen\"\n",
        "str2 = \"silent\"\n",
        "result = are_anagrams(str1,str2)\n",
        "print(\"Check the Strings Anagrams:\",result)"
      ]
    },
    {
      "cell_type": "code",
      "source": [
        "def are_anagrams(str1,str2):\n",
        "  str1_clean = str1.lower().replace(\" \",\"\")\n",
        "  str2_clean = str2.lower().replace(\" \",\"\")\n",
        "  return sorted(str1_clean) == sorted(str2_clean)\n",
        "\n",
        "str1 = \"arm\"\n",
        "str2 = \"gram\"\n",
        "result = are_anagrams(str1,str2)\n",
        "print(\"Check the Strings Anagrams:\",result)"
      ],
      "metadata": {
        "colab": {
          "base_uri": "https://localhost:8080/"
        },
        "id": "tjHm4mjb9ccc",
        "outputId": "311ae0fb-b6e0-4d68-cec6-725295eb1141"
      },
      "execution_count": 6,
      "outputs": [
        {
          "output_type": "stream",
          "name": "stdout",
          "text": [
            "Check the Strings Anagrams: False\n"
          ]
        }
      ]
    }
  ]
}