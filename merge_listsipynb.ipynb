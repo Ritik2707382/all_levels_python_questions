{
  "nbformat": 4,
  "nbformat_minor": 0,
  "metadata": {
    "colab": {
      "provenance": []
    },
    "kernelspec": {
      "name": "python3",
      "display_name": "Python 3"
    },
    "language_info": {
      "name": "python"
    }
  },
  "cells": [
    {
      "cell_type": "code",
      "execution_count": 1,
      "metadata": {
        "colab": {
          "base_uri": "https://localhost:8080/"
        },
        "id": "93tfo_ex3rpX",
        "outputId": "eb86b26e-1d8a-4b01-f36c-d2292074a1b7"
      },
      "outputs": [
        {
          "output_type": "stream",
          "name": "stdout",
          "text": [
            "The Merge of Two Lists: [1, 2, 3, 4, 5, 6, 7, 8]\n"
          ]
        }
      ],
      "source": [
        "def merge_lists(list1,list2):\n",
        "  merge_list = list1 + list2\n",
        "  return sorted(merge_list)\n",
        "\n",
        "list1 = [1, 3, 5, 7]\n",
        "list2 = [2, 4, 6, 8]\n",
        "merge = merge_lists(list1,list2)\n",
        "print(\"The Merge of Two Lists:\", merge)"
      ]
    }
  ]
}