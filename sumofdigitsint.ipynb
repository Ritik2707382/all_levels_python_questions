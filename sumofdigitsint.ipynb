{
  "nbformat": 4,
  "nbformat_minor": 0,
  "metadata": {
    "colab": {
      "provenance": []
    },
    "kernelspec": {
      "name": "python3",
      "display_name": "Python 3"
    },
    "language_info": {
      "name": "python"
    }
  },
  "cells": [
    {
      "cell_type": "code",
      "execution_count": null,
      "metadata": {
        "colab": {
          "base_uri": "https://localhost:8080/"
        },
        "id": "lRGwvcHEbvcq",
        "outputId": "6fc442b6-8325-4ff9-a79e-a8e283bd43c8"
      },
      "outputs": [
        {
          "output_type": "stream",
          "name": "stdout",
          "text": [
            "15\n"
          ]
        }
      ],
      "source": [
        "def sum_of_digits(n):\n",
        "  n = abs(n)\n",
        "  return sum((int(digit) for digit in str(n)))\n",
        "\n",
        "input_number = 12345\n",
        "number = sum_of_digits(input_number)\n",
        "print(number)"
      ]
    }
  ]
}