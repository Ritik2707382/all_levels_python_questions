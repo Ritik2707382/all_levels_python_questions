{
  "nbformat": 4,
  "nbformat_minor": 0,
  "metadata": {
    "colab": {
      "provenance": []
    },
    "kernelspec": {
      "name": "python3",
      "display_name": "Python 3"
    },
    "language_info": {
      "name": "python"
    }
  },
  "cells": [
    {
      "cell_type": "code",
      "execution_count": 4,
      "metadata": {
        "colab": {
          "base_uri": "https://localhost:8080/"
        },
        "id": "onLfeRSliVKA",
        "outputId": "5e905482-6aed-4b53-80c4-5281d8def671"
      },
      "outputs": [
        {
          "output_type": "stream",
          "name": "stdout",
          "text": [
            "[[1, 4, 7], [2, 5, 8], [3, 6, 9]]\n"
          ]
        }
      ],
      "source": [
        "def transporse_matrix(matrix):\n",
        "  if not matrix or not matrix[0]:\n",
        "    return []\n",
        "  rows = len(matrix)\n",
        "  cols = len(matrix)\n",
        "\n",
        "  transporse = [[None] * rows for _ in range(cols)]\n",
        "  for r in range(rows):\n",
        "    for c in range(cols):\n",
        "      transporse[c][r] = matrix[r][c]\n",
        "  return transporse\n",
        "\n",
        "original_matrix = [\n",
        "    [1, 2, 3],\n",
        "    [4, 5, 6],\n",
        "    [7, 8, 9]\n",
        "]\n",
        "transporse_matrix = transporse_matrix(original_matrix)\n",
        "print(transporse_matrix)"
      ]
    }
  ]
}