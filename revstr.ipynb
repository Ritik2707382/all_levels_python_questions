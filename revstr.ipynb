{
  "nbformat": 4,
  "nbformat_minor": 0,
  "metadata": {
    "colab": {
      "provenance": []
    },
    "kernelspec": {
      "name": "python3",
      "display_name": "Python 3"
    },
    "language_info": {
      "name": "python"
    }
  },
  "cells": [
    {
      "cell_type": "code",
      "execution_count": 3,
      "metadata": {
        "colab": {
          "base_uri": "https://localhost:8080/"
        },
        "id": "vbNPWpTkOxtD",
        "outputId": "2bb86272-6aad-4ef4-c08f-a326083fffb7"
      },
      "outputs": [
        {
          "output_type": "stream",
          "name": "stdout",
          "text": [
            "dlroW olleH\n"
          ]
        }
      ],
      "source": [
        "def reverse_string(string):\n",
        "  return string[::-1]\n",
        "\n",
        "input_string = \"Hello World\"\n",
        "reverse_string = reverse_string(input_string)\n",
        "print(reverse_string)"
      ]
    }
  ]
}