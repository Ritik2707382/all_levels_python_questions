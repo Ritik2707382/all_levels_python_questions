{
  "nbformat": 4,
  "nbformat_minor": 0,
  "metadata": {
    "colab": {
      "provenance": []
    },
    "kernelspec": {
      "name": "python3",
      "display_name": "Python 3"
    },
    "language_info": {
      "name": "python"
    }
  },
  "cells": [
    {
      "cell_type": "code",
      "execution_count": 2,
      "metadata": {
        "colab": {
          "base_uri": "https://localhost:8080/"
        },
        "id": "x8B1Pb_i-uBg",
        "outputId": "b5536422-82a4-44bc-a808-1d036c5f390e"
      },
      "outputs": [
        {
          "output_type": "stream",
          "name": "stdout",
          "text": [
            "Element 10 found at index 4\n"
          ]
        }
      ],
      "source": [
        "def binary_search(arr,target):\n",
        "  low = 0\n",
        "  high =  len(arr) -1\n",
        "  while low <=high:\n",
        "    mid = (low+high)//2\n",
        "    if arr[mid] == target:\n",
        "      return mid\n",
        "    elif arr[low]<mid :\n",
        "      low = mid + 1\n",
        "    else:\n",
        "      high = mid -1\n",
        "  return -1\n",
        "\n",
        "arr = [2, 4, 6, 8, 10, 12, 14]\n",
        "target = 10\n",
        "result = binary_search(arr,target)\n",
        "if (result != -1):\n",
        "  print(f\"Element {target} found at index {result}\")\n",
        "else:\n",
        "  print(f\"Element {target} not found at index {result}\")"
      ]
    },
    {
      "cell_type": "code",
      "source": [
        "def binary_search(arr,target):\n",
        "  low = 0\n",
        "  high = len(arr) -1\n",
        "  while low <=high:\n",
        "    mid = (low+high)//2\n",
        "    if arr[mid] ==target:\n",
        "      return mid\n",
        "    elif arr[low]<mid:\n",
        "      low = mid +1\n",
        "    else:\n",
        "      high = mid -1\n",
        "  return -1\n",
        "arr = [3,6,9,12,15,18]\n",
        "target = 11\n",
        "result = binary_search(arr,target)\n",
        "if (result!=-1):\n",
        "  print(f\"Element {target} found at index {result}\")\n",
        "else:\n",
        "  print(f\"Element {target} not found in List\")"
      ],
      "metadata": {
        "colab": {
          "base_uri": "https://localhost:8080/"
        },
        "id": "a_Hkrk5iB2mD",
        "outputId": "d0fb9990-7329-49ea-f991-0a665c035034"
      },
      "execution_count": 4,
      "outputs": [
        {
          "output_type": "stream",
          "name": "stdout",
          "text": [
            "Element 11 not found in List\n"
          ]
        }
      ]
    }
  ]
}