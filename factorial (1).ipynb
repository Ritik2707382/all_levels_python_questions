{
  "nbformat": 4,
  "nbformat_minor": 0,
  "metadata": {
    "colab": {
      "provenance": []
    },
    "kernelspec": {
      "name": "python3",
      "display_name": "Python 3"
    },
    "language_info": {
      "name": "python"
    }
  },
  "cells": [
    {
      "cell_type": "code",
      "execution_count": 4,
      "metadata": {
        "colab": {
          "base_uri": "https://localhost:8080/"
        },
        "id": "iHK8XmS6jRKD",
        "outputId": "f8c1563e-00be-4238-94aa-eb3bc3ebb026"
      },
      "outputs": [
        {
          "output_type": "stream",
          "name": "stdout",
          "text": [
            "120\n"
          ]
        }
      ],
      "source": [
        "def factorial(n):\n",
        "  if n <0:\n",
        "    print(\"Factorial Cannot be Printed for Negative Numbers\")\n",
        "  result = 1\n",
        "  for i in range(1,n+1):\n",
        "    result = result * i\n",
        "  return result\n",
        "number = 5\n",
        "factorial_number = factorial(5)\n",
        "print(factorial_number)"
      ]
    },
    {
      "cell_type": "code",
      "source": [
        "def factorial(n):\n",
        "  if n<0:\n",
        "    print(\"Factorial Cannot be Printed for Negative Numbers\")\n",
        "  elif n==0 or n==1:\n",
        "    return 1\n",
        "  return n * factorial(n-1)\n",
        "number = 5\n",
        "factorial_number = factorial(5)\n",
        "print(factorial_number)"
      ],
      "metadata": {
        "colab": {
          "base_uri": "https://localhost:8080/"
        },
        "id": "Pn8cOt1NnJLf",
        "outputId": "5e206501-ebba-4287-9765-4eedaa7ab11d"
      },
      "execution_count": 6,
      "outputs": [
        {
          "output_type": "stream",
          "name": "stdout",
          "text": [
            "120\n"
          ]
        }
      ]
    }
  ]
}