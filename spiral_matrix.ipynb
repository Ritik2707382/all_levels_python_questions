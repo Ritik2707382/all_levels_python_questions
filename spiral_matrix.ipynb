{
  "nbformat": 4,
  "nbformat_minor": 0,
  "metadata": {
    "colab": {
      "provenance": []
    },
    "kernelspec": {
      "name": "python3",
      "display_name": "Python 3"
    },
    "language_info": {
      "name": "python"
    }
  },
  "cells": [
    {
      "cell_type": "code",
      "execution_count": 8,
      "metadata": {
        "id": "4iJzbPOt8h_H",
        "colab": {
          "base_uri": "https://localhost:8080/"
        },
        "outputId": "34ba3439-cfc1-4c3f-e1c1-1bbbacd3ae36"
      },
      "outputs": [
        {
          "output_type": "stream",
          "name": "stdout",
          "text": [
            "[1, 2, 3, 6, 9, 8, 7, 4, 5]\n"
          ]
        }
      ],
      "source": [
        "def spiral_order(matrix):\n",
        "  if not matrix and not matrix[0]:\n",
        "    return []\n",
        "\n",
        "  result = []\n",
        "  top,bottom = 0 , len(matrix)-1\n",
        "  left,right =0, len(matrix[0])-1\n",
        "\n",
        "  while top<=bottom and left<=right:\n",
        "     # Traverse from left to right along the top row\n",
        "     for col in range(left,right+1):\n",
        "      result.append(matrix[top][col])\n",
        "     top = top + 1\n",
        "\n",
        "     # Traverse from top to bottom along the right column\n",
        "     for row in range(top,bottom+1):\n",
        "      result.append(matrix[row][right])\n",
        "     right = right - 1\n",
        "\n",
        "     if top<=bottom:\n",
        "      # Traverse from right to left along the bottom row\n",
        "      for col in range(right,left-1,-1):\n",
        "        result.append(matrix[bottom][col])\n",
        "      bottom = bottom - 1\n",
        "\n",
        "     if left<=right:\n",
        "      # Traverse from bottom to top along the left column\n",
        "      for row in range(bottom,top-1,-1):\n",
        "        result.append(matrix[row][left])\n",
        "      left = left + 1\n",
        "\n",
        "  return result\n",
        "\n",
        "matrix = [\n",
        "    [1, 2, 3],\n",
        "    [4, 5, 6],\n",
        "    [7, 8, 9]\n",
        "]\n",
        "print(spiral_order(matrix))"
      ]
    }
  ]
}