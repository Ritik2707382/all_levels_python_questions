{
  "nbformat": 4,
  "nbformat_minor": 0,
  "metadata": {
    "colab": {
      "provenance": []
    },
    "kernelspec": {
      "name": "python3",
      "display_name": "Python 3"
    },
    "language_info": {
      "name": "python"
    }
  },
  "cells": [
    {
      "cell_type": "code",
      "execution_count": 1,
      "metadata": {
        "colab": {
          "base_uri": "https://localhost:8080/"
        },
        "id": "i14wtfaQu155",
        "outputId": "05848676-5a0b-4d4c-fee2-19245d57d603"
      },
      "outputs": [
        {
          "output_type": "stream",
          "name": "stdout",
          "text": [
            "[[7, 4, 1], [8, 5, 2], [9, 6, 3]]\n"
          ]
        }
      ],
      "source": [
        "def rotate_matrix(matrix):\n",
        "  if not matrix or not matrix[0]:\n",
        "    return []\n",
        "  rows = len(matrix)\n",
        "  cols = len(matrix)\n",
        "\n",
        "  rotate = [[0] * rows for _ in range(cols)]\n",
        "  for r in range(rows):\n",
        "    for c in range(cols):\n",
        "      rotate[c][rows-1-r] = matrix[r][c]\n",
        "  return rotate\n",
        "\n",
        "matrix = [\n",
        "    [1, 2, 3],\n",
        "    [4, 5, 6],\n",
        "    [7, 8, 9]\n",
        "]\n",
        "rotate = rotate_matrix(matrix)\n",
        "print(rotate)"
      ]
    }
  ]
}