{
  "nbformat": 4,
  "nbformat_minor": 0,
  "metadata": {
    "colab": {
      "provenance": []
    },
    "kernelspec": {
      "name": "python3",
      "display_name": "Python 3"
    },
    "language_info": {
      "name": "python"
    }
  },
  "cells": [
    {
      "cell_type": "code",
      "execution_count": 3,
      "metadata": {
        "colab": {
          "base_uri": "https://localhost:8080/"
        },
        "id": "dM5h8kw90Hed",
        "outputId": "7ac9b060-5e01-4181-a9dd-7bdc11fbacfe"
      },
      "outputs": [
        {
          "output_type": "stream",
          "name": "stdout",
          "text": [
            "Number of Vowels in the String:  3\n"
          ]
        }
      ],
      "source": [
        "def count_vowels(str):\n",
        "  count = 0\n",
        "  vowels = \"aeiouAEIOU\"\n",
        "  for char in str:\n",
        "    if char in vowels:\n",
        "      count = count + 1\n",
        "  return count\n",
        "\n",
        "input_string = \"Hello World\"\n",
        "number_vowels =count_vowels(input_string)\n",
        "print(\"Number of Vowels in the String: \", number_vowels)"
      ]
    }
  ]
}